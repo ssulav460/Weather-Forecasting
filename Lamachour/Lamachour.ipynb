{
 "cells": [
  {
   "cell_type": "code",
   "execution_count": 49,
   "metadata": {},
   "outputs": [],
   "source": [
    "import numpy as np \n",
    "import seaborn as sns\n",
    "import pandas as pd \n",
    "import datetime as dt\n",
    "import matplotlib.pyplot as plt\n",
    "import os"
   ]
  },
  {
   "cell_type": "code",
   "execution_count": 50,
   "metadata": {},
   "outputs": [],
   "source": [
    "df = pd.read_csv('./Lamachour.csv')"
   ]
  },
  {
   "cell_type": "code",
   "execution_count": 51,
   "metadata": {},
   "outputs": [
    {
     "data": {
      "text/html": [
       "<div>\n",
       "<style scoped>\n",
       "    .dataframe tbody tr th:only-of-type {\n",
       "        vertical-align: middle;\n",
       "    }\n",
       "\n",
       "    .dataframe tbody tr th {\n",
       "        vertical-align: top;\n",
       "    }\n",
       "\n",
       "    .dataframe thead th {\n",
       "        text-align: right;\n",
       "    }\n",
       "</style>\n",
       "<table border=\"1\" class=\"dataframe\">\n",
       "  <thead>\n",
       "    <tr style=\"text-align: right;\">\n",
       "      <th></th>\n",
       "      <th>Time</th>\n",
       "      <th>Precipitation 3UTC</th>\n",
       "      <th>Unnamed: 2</th>\n",
       "    </tr>\n",
       "  </thead>\n",
       "  <tbody>\n",
       "    <tr>\n",
       "      <th>0</th>\n",
       "      <td>01/01/2015 03:00:00</td>\n",
       "      <td>0.0</td>\n",
       "      <td>NaN</td>\n",
       "    </tr>\n",
       "    <tr>\n",
       "      <th>1</th>\n",
       "      <td>01/02/2015 03:00:00</td>\n",
       "      <td>19.6</td>\n",
       "      <td>NaN</td>\n",
       "    </tr>\n",
       "    <tr>\n",
       "      <th>2</th>\n",
       "      <td>01/03/2015 03:00:00</td>\n",
       "      <td>20.8</td>\n",
       "      <td>NaN</td>\n",
       "    </tr>\n",
       "    <tr>\n",
       "      <th>3</th>\n",
       "      <td>01/04/2015 03:00:00</td>\n",
       "      <td>10.0</td>\n",
       "      <td>NaN</td>\n",
       "    </tr>\n",
       "    <tr>\n",
       "      <th>4</th>\n",
       "      <td>01/05/2015 03:00:00</td>\n",
       "      <td>0.0</td>\n",
       "      <td>NaN</td>\n",
       "    </tr>\n",
       "    <tr>\n",
       "      <th>...</th>\n",
       "      <td>...</td>\n",
       "      <td>...</td>\n",
       "      <td>...</td>\n",
       "    </tr>\n",
       "    <tr>\n",
       "      <th>2764</th>\n",
       "      <td>08/27/2022 03:00:00</td>\n",
       "      <td>10.0</td>\n",
       "      <td>NaN</td>\n",
       "    </tr>\n",
       "    <tr>\n",
       "      <th>2765</th>\n",
       "      <td>08/28/2022 03:00:00</td>\n",
       "      <td>200.0</td>\n",
       "      <td>NaN</td>\n",
       "    </tr>\n",
       "    <tr>\n",
       "      <th>2766</th>\n",
       "      <td>08/29/2022 03:00:00</td>\n",
       "      <td>20.8</td>\n",
       "      <td>NaN</td>\n",
       "    </tr>\n",
       "    <tr>\n",
       "      <th>2767</th>\n",
       "      <td>08/30/2022 03:00:00</td>\n",
       "      <td>6.4</td>\n",
       "      <td>NaN</td>\n",
       "    </tr>\n",
       "    <tr>\n",
       "      <th>2768</th>\n",
       "      <td>08/31/2022 03:00:00</td>\n",
       "      <td>140.0</td>\n",
       "      <td>NaN</td>\n",
       "    </tr>\n",
       "  </tbody>\n",
       "</table>\n",
       "<p>2769 rows × 3 columns</p>\n",
       "</div>"
      ],
      "text/plain": [
       "                     Time  Precipitation 3UTC  Unnamed: 2\n",
       "0     01/01/2015 03:00:00                 0.0         NaN\n",
       "1     01/02/2015 03:00:00                19.6         NaN\n",
       "2     01/03/2015 03:00:00                20.8         NaN\n",
       "3     01/04/2015 03:00:00                10.0         NaN\n",
       "4     01/05/2015 03:00:00                 0.0         NaN\n",
       "...                   ...                 ...         ...\n",
       "2764  08/27/2022 03:00:00                10.0         NaN\n",
       "2765  08/28/2022 03:00:00               200.0         NaN\n",
       "2766  08/29/2022 03:00:00                20.8         NaN\n",
       "2767  08/30/2022 03:00:00                 6.4         NaN\n",
       "2768  08/31/2022 03:00:00               140.0         NaN\n",
       "\n",
       "[2769 rows x 3 columns]"
      ]
     },
     "execution_count": 51,
     "metadata": {},
     "output_type": "execute_result"
    }
   ],
   "source": [
    "df"
   ]
  },
  {
   "cell_type": "code",
   "execution_count": 52,
   "metadata": {},
   "outputs": [],
   "source": [
    "del df['Unnamed: 2']"
   ]
  },
  {
   "cell_type": "code",
   "execution_count": 53,
   "metadata": {},
   "outputs": [
    {
     "data": {
      "text/plain": [
       "Time                  0\n",
       "Precipitation 3UTC    0\n",
       "dtype: int64"
      ]
     },
     "execution_count": 53,
     "metadata": {},
     "output_type": "execute_result"
    }
   ],
   "source": [
    "df.isnull().sum()"
   ]
  },
  {
   "cell_type": "code",
   "execution_count": 54,
   "metadata": {},
   "outputs": [
    {
     "data": {
      "text/html": [
       "<div>\n",
       "<style scoped>\n",
       "    .dataframe tbody tr th:only-of-type {\n",
       "        vertical-align: middle;\n",
       "    }\n",
       "\n",
       "    .dataframe tbody tr th {\n",
       "        vertical-align: top;\n",
       "    }\n",
       "\n",
       "    .dataframe thead th {\n",
       "        text-align: right;\n",
       "    }\n",
       "</style>\n",
       "<table border=\"1\" class=\"dataframe\">\n",
       "  <thead>\n",
       "    <tr style=\"text-align: right;\">\n",
       "      <th></th>\n",
       "      <th>Time</th>\n",
       "      <th>Precipitation 3UTC</th>\n",
       "    </tr>\n",
       "  </thead>\n",
       "  <tbody>\n",
       "    <tr>\n",
       "      <th>0</th>\n",
       "      <td>2015-01-01 03:00:00</td>\n",
       "      <td>0.0</td>\n",
       "    </tr>\n",
       "    <tr>\n",
       "      <th>1</th>\n",
       "      <td>2015-01-02 03:00:00</td>\n",
       "      <td>19.6</td>\n",
       "    </tr>\n",
       "    <tr>\n",
       "      <th>2</th>\n",
       "      <td>2015-01-03 03:00:00</td>\n",
       "      <td>20.8</td>\n",
       "    </tr>\n",
       "    <tr>\n",
       "      <th>3</th>\n",
       "      <td>2015-01-04 03:00:00</td>\n",
       "      <td>10.0</td>\n",
       "    </tr>\n",
       "    <tr>\n",
       "      <th>4</th>\n",
       "      <td>2015-01-05 03:00:00</td>\n",
       "      <td>0.0</td>\n",
       "    </tr>\n",
       "    <tr>\n",
       "      <th>...</th>\n",
       "      <td>...</td>\n",
       "      <td>...</td>\n",
       "    </tr>\n",
       "    <tr>\n",
       "      <th>2764</th>\n",
       "      <td>2022-08-27 03:00:00</td>\n",
       "      <td>10.0</td>\n",
       "    </tr>\n",
       "    <tr>\n",
       "      <th>2765</th>\n",
       "      <td>2022-08-28 03:00:00</td>\n",
       "      <td>200.0</td>\n",
       "    </tr>\n",
       "    <tr>\n",
       "      <th>2766</th>\n",
       "      <td>2022-08-29 03:00:00</td>\n",
       "      <td>20.8</td>\n",
       "    </tr>\n",
       "    <tr>\n",
       "      <th>2767</th>\n",
       "      <td>2022-08-30 03:00:00</td>\n",
       "      <td>6.4</td>\n",
       "    </tr>\n",
       "    <tr>\n",
       "      <th>2768</th>\n",
       "      <td>2022-08-31 03:00:00</td>\n",
       "      <td>140.0</td>\n",
       "    </tr>\n",
       "  </tbody>\n",
       "</table>\n",
       "<p>2769 rows × 2 columns</p>\n",
       "</div>"
      ],
      "text/plain": [
       "                    Time  Precipitation 3UTC\n",
       "0    2015-01-01 03:00:00                 0.0\n",
       "1    2015-01-02 03:00:00                19.6\n",
       "2    2015-01-03 03:00:00                20.8\n",
       "3    2015-01-04 03:00:00                10.0\n",
       "4    2015-01-05 03:00:00                 0.0\n",
       "...                  ...                 ...\n",
       "2764 2022-08-27 03:00:00                10.0\n",
       "2765 2022-08-28 03:00:00               200.0\n",
       "2766 2022-08-29 03:00:00                20.8\n",
       "2767 2022-08-30 03:00:00                 6.4\n",
       "2768 2022-08-31 03:00:00               140.0\n",
       "\n",
       "[2769 rows x 2 columns]"
      ]
     },
     "execution_count": 54,
     "metadata": {},
     "output_type": "execute_result"
    }
   ],
   "source": [
    "#changing the format of date\n",
    "df['Time']=pd.to_datetime(df['Time'], infer_datetime_format='%Y-%m-%d')\n",
    "df"
   ]
  },
  {
   "cell_type": "code",
   "execution_count": 55,
   "metadata": {},
   "outputs": [],
   "source": [
    "# df['Time']\n"
   ]
  },
  {
   "cell_type": "code",
   "execution_count": 56,
   "metadata": {},
   "outputs": [
    {
     "name": "stdout",
     "output_type": "stream",
     "text": [
      "DatetimeIndex(['2020-12-01 03:00:00', '2020-12-02 03:00:00',\n",
      "               '2020-12-03 03:00:00', '2020-12-04 03:00:00',\n",
      "               '2020-12-05 03:00:00', '2020-12-06 03:00:00',\n",
      "               '2020-12-07 03:00:00', '2020-12-08 03:00:00',\n",
      "               '2020-12-09 03:00:00', '2020-12-10 03:00:00',\n",
      "               '2020-12-11 03:00:00', '2020-12-12 03:00:00',\n",
      "               '2020-12-13 03:00:00', '2020-12-14 03:00:00',\n",
      "               '2020-12-15 03:00:00', '2020-12-16 03:00:00',\n",
      "               '2020-12-17 03:00:00', '2020-12-18 03:00:00',\n",
      "               '2020-12-19 03:00:00', '2020-12-20 03:00:00',\n",
      "               '2020-12-21 03:00:00', '2020-12-22 03:00:00',\n",
      "               '2020-12-23 03:00:00', '2020-12-24 03:00:00',\n",
      "               '2020-12-25 03:00:00', '2020-12-26 03:00:00',\n",
      "               '2020-12-27 03:00:00', '2020-12-28 03:00:00',\n",
      "               '2020-12-29 03:00:00', '2020-12-30 03:00:00',\n",
      "               '2020-12-31 03:00:00'],\n",
      "              dtype='datetime64[ns]', freq=None)\n"
     ]
    }
   ],
   "source": [
    "# checking the missing date\n",
    "# Setting the Date values as index\n",
    "df = df.set_index('Time')\n",
    " \n",
    "# to_datetime() method converts string\n",
    "# format to a DateTime object\n",
    "df.index = pd.to_datetime(df.index)\n",
    " \n",
    "# dates which are not in the sequence\n",
    "# are returned\n",
    "print(pd.date_range(\n",
    "  start=\"2015-01-01 03:00:00\", end=\"2022-8-31 03:00:00\").difference(df.index))"
   ]
  },
  {
   "cell_type": "markdown",
   "metadata": {},
   "source": [
    "#ADDING THE MISSING DATES WITH NA VALUE"
   ]
  },
  {
   "cell_type": "code",
   "execution_count": 57,
   "metadata": {},
   "outputs": [
    {
     "data": {
      "text/html": [
       "<div>\n",
       "<style scoped>\n",
       "    .dataframe tbody tr th:only-of-type {\n",
       "        vertical-align: middle;\n",
       "    }\n",
       "\n",
       "    .dataframe tbody tr th {\n",
       "        vertical-align: top;\n",
       "    }\n",
       "\n",
       "    .dataframe thead th {\n",
       "        text-align: right;\n",
       "    }\n",
       "</style>\n",
       "<table border=\"1\" class=\"dataframe\">\n",
       "  <thead>\n",
       "    <tr style=\"text-align: right;\">\n",
       "      <th></th>\n",
       "      <th>Precipitation 3UTC</th>\n",
       "    </tr>\n",
       "  </thead>\n",
       "  <tbody>\n",
       "    <tr>\n",
       "      <th>2015-01-01 03:00:00</th>\n",
       "      <td>0.0</td>\n",
       "    </tr>\n",
       "    <tr>\n",
       "      <th>2015-01-02 03:00:00</th>\n",
       "      <td>19.6</td>\n",
       "    </tr>\n",
       "    <tr>\n",
       "      <th>2015-01-03 03:00:00</th>\n",
       "      <td>20.8</td>\n",
       "    </tr>\n",
       "    <tr>\n",
       "      <th>2015-01-04 03:00:00</th>\n",
       "      <td>10.0</td>\n",
       "    </tr>\n",
       "    <tr>\n",
       "      <th>2015-01-05 03:00:00</th>\n",
       "      <td>0.0</td>\n",
       "    </tr>\n",
       "    <tr>\n",
       "      <th>...</th>\n",
       "      <td>...</td>\n",
       "    </tr>\n",
       "    <tr>\n",
       "      <th>2022-08-27 03:00:00</th>\n",
       "      <td>10.0</td>\n",
       "    </tr>\n",
       "    <tr>\n",
       "      <th>2022-08-28 03:00:00</th>\n",
       "      <td>200.0</td>\n",
       "    </tr>\n",
       "    <tr>\n",
       "      <th>2022-08-29 03:00:00</th>\n",
       "      <td>20.8</td>\n",
       "    </tr>\n",
       "    <tr>\n",
       "      <th>2022-08-30 03:00:00</th>\n",
       "      <td>6.4</td>\n",
       "    </tr>\n",
       "    <tr>\n",
       "      <th>2022-08-31 03:00:00</th>\n",
       "      <td>140.0</td>\n",
       "    </tr>\n",
       "  </tbody>\n",
       "</table>\n",
       "<p>2800 rows × 1 columns</p>\n",
       "</div>"
      ],
      "text/plain": [
       "                    Precipitation 3UTC\n",
       "2015-01-01 03:00:00                0.0\n",
       "2015-01-02 03:00:00               19.6\n",
       "2015-01-03 03:00:00               20.8\n",
       "2015-01-04 03:00:00               10.0\n",
       "2015-01-05 03:00:00                0.0\n",
       "...                                ...\n",
       "2022-08-27 03:00:00               10.0\n",
       "2022-08-28 03:00:00              200.0\n",
       "2022-08-29 03:00:00               20.8\n",
       "2022-08-30 03:00:00                6.4\n",
       "2022-08-31 03:00:00              140.0\n",
       "\n",
       "[2800 rows x 1 columns]"
      ]
     },
     "execution_count": 57,
     "metadata": {},
     "output_type": "execute_result"
    }
   ],
   "source": [
    "index = pd.date_range(start=\"2015-01-01 03:00:00\", end=\"2022-08-31 03:00:00\", freq=\"D\")\n",
    "df=df.reindex(index, fill_value='null')\n",
    "df\n",
    "# DF = pd.date_range(start=\"2015-01-01 03:00:00\", end=\"2022-08-31 03:00:00\", freq=\"D\")\n",
    "# df.reindex(DF, fill_value= ' ')\n",
    "# df.set_index('Time').reindex(d_range)"
   ]
  },
  {
   "cell_type": "code",
   "execution_count": 60,
   "metadata": {},
   "outputs": [],
   "source": [
    "df.to_csv('Precipitation.csv')"
   ]
  },
  {
   "cell_type": "code",
   "execution_count": null,
   "metadata": {},
   "outputs": [],
   "source": []
  }
 ],
 "metadata": {
  "kernelspec": {
   "display_name": "Python 3.9.12 ('base')",
   "language": "python",
   "name": "python3"
  },
  "language_info": {
   "codemirror_mode": {
    "name": "ipython",
    "version": 3
   },
   "file_extension": ".py",
   "mimetype": "text/x-python",
   "name": "python",
   "nbconvert_exporter": "python",
   "pygments_lexer": "ipython3",
   "version": "3.9.12"
  },
  "orig_nbformat": 4,
  "vscode": {
   "interpreter": {
    "hash": "c625bab7c287ecdc7cf57830fd8ee2e4e101d09a77a38cba16bfa62a8e90dead"
   }
  }
 },
 "nbformat": 4,
 "nbformat_minor": 2
}
