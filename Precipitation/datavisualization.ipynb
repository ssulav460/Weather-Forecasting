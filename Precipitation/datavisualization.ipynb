{
 "cells": [
  {
   "cell_type": "code",
   "execution_count": 1,
   "metadata": {},
   "outputs": [],
   "source": [
    "import pandas as pd \n",
    "import numpy as np \n",
    "import matplotlib.pyplot as plt \n",
    "import os\n"
   ]
  },
  {
   "cell_type": "code",
   "execution_count": 2,
   "metadata": {},
   "outputs": [
    {
     "data": {
      "text/html": [
       "<div>\n",
       "<style scoped>\n",
       "    .dataframe tbody tr th:only-of-type {\n",
       "        vertical-align: middle;\n",
       "    }\n",
       "\n",
       "    .dataframe tbody tr th {\n",
       "        vertical-align: top;\n",
       "    }\n",
       "\n",
       "    .dataframe thead th {\n",
       "        text-align: right;\n",
       "    }\n",
       "</style>\n",
       "<table border=\"1\" class=\"dataframe\">\n",
       "  <thead>\n",
       "    <tr style=\"text-align: right;\">\n",
       "      <th></th>\n",
       "      <th>Unnamed: 0</th>\n",
       "      <th>Time</th>\n",
       "      <th>Pokhara Airport</th>\n",
       "      <th>Lumle</th>\n",
       "      <th>Begnas</th>\n",
       "      <th>Lamachour</th>\n",
       "    </tr>\n",
       "  </thead>\n",
       "  <tbody>\n",
       "    <tr>\n",
       "      <th>0</th>\n",
       "      <td>0</td>\n",
       "      <td>2015-01-01 03:00:00</td>\n",
       "      <td>0.0</td>\n",
       "      <td>0.0</td>\n",
       "      <td>0.0</td>\n",
       "      <td>0.0</td>\n",
       "    </tr>\n",
       "    <tr>\n",
       "      <th>1</th>\n",
       "      <td>1</td>\n",
       "      <td>2015-01-02 03:00:00</td>\n",
       "      <td>15.4</td>\n",
       "      <td>29.0</td>\n",
       "      <td>16.8</td>\n",
       "      <td>19.6</td>\n",
       "    </tr>\n",
       "    <tr>\n",
       "      <th>2</th>\n",
       "      <td>2</td>\n",
       "      <td>2015-01-03 03:00:00</td>\n",
       "      <td>21.4</td>\n",
       "      <td>26.4</td>\n",
       "      <td>33.6</td>\n",
       "      <td>20.8</td>\n",
       "    </tr>\n",
       "    <tr>\n",
       "      <th>3</th>\n",
       "      <td>3</td>\n",
       "      <td>2015-01-04 03:00:00</td>\n",
       "      <td>15.9</td>\n",
       "      <td>15.9</td>\n",
       "      <td>11.6</td>\n",
       "      <td>10.0</td>\n",
       "    </tr>\n",
       "    <tr>\n",
       "      <th>4</th>\n",
       "      <td>4</td>\n",
       "      <td>2015-01-05 03:00:00</td>\n",
       "      <td>0.0</td>\n",
       "      <td>0.0</td>\n",
       "      <td>0.0</td>\n",
       "      <td>0.0</td>\n",
       "    </tr>\n",
       "    <tr>\n",
       "      <th>...</th>\n",
       "      <td>...</td>\n",
       "      <td>...</td>\n",
       "      <td>...</td>\n",
       "      <td>...</td>\n",
       "      <td>...</td>\n",
       "      <td>...</td>\n",
       "    </tr>\n",
       "    <tr>\n",
       "      <th>2764</th>\n",
       "      <td>2764</td>\n",
       "      <td>2022-07-27 03:00:00</td>\n",
       "      <td>51.1</td>\n",
       "      <td>7.0</td>\n",
       "      <td>98.0</td>\n",
       "      <td>20.0</td>\n",
       "    </tr>\n",
       "    <tr>\n",
       "      <th>2765</th>\n",
       "      <td>2765</td>\n",
       "      <td>2022-07-28 03:00:00</td>\n",
       "      <td>15.7</td>\n",
       "      <td>60.9</td>\n",
       "      <td>13.0</td>\n",
       "      <td>132.0</td>\n",
       "    </tr>\n",
       "    <tr>\n",
       "      <th>2766</th>\n",
       "      <td>2766</td>\n",
       "      <td>2022-07-29 03:00:00</td>\n",
       "      <td>3.5</td>\n",
       "      <td>11.1</td>\n",
       "      <td>7.0</td>\n",
       "      <td>2.0</td>\n",
       "    </tr>\n",
       "    <tr>\n",
       "      <th>2767</th>\n",
       "      <td>2767</td>\n",
       "      <td>2022-07-30 03:00:00</td>\n",
       "      <td>27.3</td>\n",
       "      <td>31.2</td>\n",
       "      <td>12.0</td>\n",
       "      <td>34.2</td>\n",
       "    </tr>\n",
       "    <tr>\n",
       "      <th>2768</th>\n",
       "      <td>2768</td>\n",
       "      <td>2022-07-31 03:00:00</td>\n",
       "      <td>33.4</td>\n",
       "      <td>36.2</td>\n",
       "      <td>63.0</td>\n",
       "      <td>84.0</td>\n",
       "    </tr>\n",
       "  </tbody>\n",
       "</table>\n",
       "<p>2769 rows × 6 columns</p>\n",
       "</div>"
      ],
      "text/plain": [
       "      Unnamed: 0                 Time  Pokhara Airport  Lumle  Begnas  \\\n",
       "0              0  2015-01-01 03:00:00              0.0    0.0     0.0   \n",
       "1              1  2015-01-02 03:00:00             15.4   29.0    16.8   \n",
       "2              2  2015-01-03 03:00:00             21.4   26.4    33.6   \n",
       "3              3  2015-01-04 03:00:00             15.9   15.9    11.6   \n",
       "4              4  2015-01-05 03:00:00              0.0    0.0     0.0   \n",
       "...          ...                  ...              ...    ...     ...   \n",
       "2764        2764  2022-07-27 03:00:00             51.1    7.0    98.0   \n",
       "2765        2765  2022-07-28 03:00:00             15.7   60.9    13.0   \n",
       "2766        2766  2022-07-29 03:00:00              3.5   11.1     7.0   \n",
       "2767        2767  2022-07-30 03:00:00             27.3   31.2    12.0   \n",
       "2768        2768  2022-07-31 03:00:00             33.4   36.2    63.0   \n",
       "\n",
       "      Lamachour  \n",
       "0           0.0  \n",
       "1          19.6  \n",
       "2          20.8  \n",
       "3          10.0  \n",
       "4           0.0  \n",
       "...         ...  \n",
       "2764       20.0  \n",
       "2765      132.0  \n",
       "2766        2.0  \n",
       "2767       34.2  \n",
       "2768       84.0  \n",
       "\n",
       "[2769 rows x 6 columns]"
      ]
     },
     "execution_count": 2,
     "metadata": {},
     "output_type": "execute_result"
    }
   ],
   "source": [
    "df= pd.read_csv('./CleanedPrecipitation.csv')\n",
    "df"
   ]
  },
  {
   "cell_type": "code",
   "execution_count": 7,
   "metadata": {},
   "outputs": [],
   "source": [
    "df1=df.drop('Unnamed: 0', axis=1)"
   ]
  },
  {
   "cell_type": "code",
   "execution_count": 14,
   "metadata": {},
   "outputs": [
    {
     "data": {
      "image/png": "[encoded data removed]",
      "text/plain": [
       "<Figure size 432x288 with 1 Axes>"
      ]
     },
     "metadata": {
      "needs_background": "light"
     },
     "output_type": "display_data"
    },
    {
     "name": "stderr",
     "output_type": "stream",
     "text": [
      "No artists with labels found to put in legend.  Note that artists whose label start with an underscore are ignored when legend() is called with no argument.\n"
     ]
    },
    {
     "data": {
      "text/plain": [
       "<matplotlib.legend.Legend at 0x7ff0da3b5550>"
      ]
     },
     "execution_count": 14,
     "metadata": {},
     "output_type": "execute_result"
    },
    {
     "data": {
      "image/png": "[encoded data removed]",
      "text/plain": [
       "<Figure size 432x288 with 1 Axes>"
      ]
     },
     "metadata": {
      "needs_background": "light"
     },
     "output_type": "display_data"
    }
   ],
   "source": [
    "plt.plot(df1['Time'],df1['Pokhara Airport'])\n",
    "plt.xlabel('Dates')\n",
    "plt.ylabel('Precipitation')\n",
    "plt.title('Precipitation trend among the different stations')\n",
    "plt.show()\n",
    "plt.legend()"
   ]
  },
  {
   "cell_type": "code",
   "execution_count": null,
   "metadata": {},
   "outputs": [],
   "source": []
  }
 ],
 "metadata": {
  "kernelspec": {
   "display_name": "Python 3.9.12 ('base')",
   "language": "python",
   "name": "python3"
  },
  "language_info": {
   "codemirror_mode": {
    "name": "ipython",
    "version": 3
   },
   "file_extension": ".py",
   "mimetype": "text/x-python",
   "name": "python",
   "nbconvert_exporter": "python",
   "pygments_lexer": "ipython3",
   "version": "3.9.12"
  },
  "orig_nbformat": 4,
  "vscode": {
   "interpreter": {
    "hash": "c625bab7c287ecdc7cf57830fd8ee2e4e101d09a77a38cba16bfa62a8e90dead"
   }
  }
 },
 "nbformat": 4,
 "nbformat_minor": 2
}
