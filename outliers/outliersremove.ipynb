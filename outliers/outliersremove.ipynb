{
 "cells": [
  {
   "cell_type": "code",
   "execution_count": 1,
   "metadata": {},
   "outputs": [],
   "source": [
    "import pandas as pd\n",
    "import matplotlib.pyplot as plt\n",
    "import os"
   ]
  },
  {
   "cell_type": "code",
   "execution_count": 2,
   "metadata": {},
   "outputs": [
    {
     "data": {
      "text/html": [
       "<div>\n",
       "<style scoped>\n",
       "    .dataframe tbody tr th:only-of-type {\n",
       "        vertical-align: middle;\n",
       "    }\n",
       "\n",
       "    .dataframe tbody tr th {\n",
       "        vertical-align: top;\n",
       "    }\n",
       "\n",
       "    .dataframe thead th {\n",
       "        text-align: right;\n",
       "    }\n",
       "</style>\n",
       "<table border=\"1\" class=\"dataframe\">\n",
       "  <thead>\n",
       "    <tr style=\"text-align: right;\">\n",
       "      <th></th>\n",
       "      <th>Date</th>\n",
       "      <th>Precipitation</th>\n",
       "      <th>Max Temperature</th>\n",
       "      <th>Min Temperature</th>\n",
       "      <th>Humidity</th>\n",
       "      <th>Pokhara Airport(m/s)</th>\n",
       "    </tr>\n",
       "  </thead>\n",
       "  <tbody>\n",
       "    <tr>\n",
       "      <th>0</th>\n",
       "      <td>01/01/2015 3:00</td>\n",
       "      <td>0.0</td>\n",
       "      <td>17.6</td>\n",
       "      <td>9.5</td>\n",
       "      <td>71.950</td>\n",
       "      <td>NaN</td>\n",
       "    </tr>\n",
       "    <tr>\n",
       "      <th>1</th>\n",
       "      <td>02/01/2015 3:00</td>\n",
       "      <td>15.4</td>\n",
       "      <td>17.1</td>\n",
       "      <td>12.0</td>\n",
       "      <td>96.500</td>\n",
       "      <td>NaN</td>\n",
       "    </tr>\n",
       "    <tr>\n",
       "      <th>2</th>\n",
       "      <td>03/01/2015 3:00</td>\n",
       "      <td>21.4</td>\n",
       "      <td>17.0</td>\n",
       "      <td>13.3</td>\n",
       "      <td>93.900</td>\n",
       "      <td>NaN</td>\n",
       "    </tr>\n",
       "    <tr>\n",
       "      <th>3</th>\n",
       "      <td>04/01/2015 3:00</td>\n",
       "      <td>15.9</td>\n",
       "      <td>22.6</td>\n",
       "      <td>10.6</td>\n",
       "      <td>84.600</td>\n",
       "      <td>NaN</td>\n",
       "    </tr>\n",
       "    <tr>\n",
       "      <th>4</th>\n",
       "      <td>05/01/2015 3:00</td>\n",
       "      <td>0.0</td>\n",
       "      <td>20.5</td>\n",
       "      <td>9.4</td>\n",
       "      <td>73.700</td>\n",
       "      <td>NaN</td>\n",
       "    </tr>\n",
       "    <tr>\n",
       "      <th>...</th>\n",
       "      <td>...</td>\n",
       "      <td>...</td>\n",
       "      <td>...</td>\n",
       "      <td>...</td>\n",
       "      <td>...</td>\n",
       "      <td>...</td>\n",
       "    </tr>\n",
       "    <tr>\n",
       "      <th>2863</th>\n",
       "      <td>03/11/2022 3:00</td>\n",
       "      <td>NaN</td>\n",
       "      <td>26.9</td>\n",
       "      <td>13.2</td>\n",
       "      <td>73.454</td>\n",
       "      <td>1.656497</td>\n",
       "    </tr>\n",
       "    <tr>\n",
       "      <th>2864</th>\n",
       "      <td>04/11/2022 3:00</td>\n",
       "      <td>NaN</td>\n",
       "      <td>27.5</td>\n",
       "      <td>14.5</td>\n",
       "      <td>74.672</td>\n",
       "      <td>1.749096</td>\n",
       "    </tr>\n",
       "    <tr>\n",
       "      <th>2865</th>\n",
       "      <td>05/11/2022 3:00</td>\n",
       "      <td>NaN</td>\n",
       "      <td>28.4</td>\n",
       "      <td>13.0</td>\n",
       "      <td>73.170</td>\n",
       "      <td>1.440432</td>\n",
       "    </tr>\n",
       "    <tr>\n",
       "      <th>2866</th>\n",
       "      <td>06/11/2022 3:00</td>\n",
       "      <td>NaN</td>\n",
       "      <td>27.2</td>\n",
       "      <td>12.9</td>\n",
       "      <td>75.856</td>\n",
       "      <td>1.851984</td>\n",
       "    </tr>\n",
       "    <tr>\n",
       "      <th>2867</th>\n",
       "      <td>07/11/2022 3:00</td>\n",
       "      <td>NaN</td>\n",
       "      <td>NaN</td>\n",
       "      <td>13.8</td>\n",
       "      <td>91.165</td>\n",
       "      <td>0.771660</td>\n",
       "    </tr>\n",
       "  </tbody>\n",
       "</table>\n",
       "<p>2868 rows × 6 columns</p>\n",
       "</div>"
      ],
      "text/plain": [
       "                 Date  Precipitation  Max Temperature  Min Temperature  \\\n",
       "0     01/01/2015 3:00            0.0             17.6              9.5   \n",
       "1     02/01/2015 3:00           15.4             17.1             12.0   \n",
       "2     03/01/2015 3:00           21.4             17.0             13.3   \n",
       "3     04/01/2015 3:00           15.9             22.6             10.6   \n",
       "4     05/01/2015 3:00            0.0             20.5              9.4   \n",
       "...               ...            ...              ...              ...   \n",
       "2863  03/11/2022 3:00            NaN             26.9             13.2   \n",
       "2864  04/11/2022 3:00            NaN             27.5             14.5   \n",
       "2865  05/11/2022 3:00            NaN             28.4             13.0   \n",
       "2866  06/11/2022 3:00            NaN             27.2             12.9   \n",
       "2867  07/11/2022 3:00            NaN              NaN             13.8   \n",
       "\n",
       "      Humidity  Pokhara Airport(m/s)  \n",
       "0       71.950                   NaN  \n",
       "1       96.500                   NaN  \n",
       "2       93.900                   NaN  \n",
       "3       84.600                   NaN  \n",
       "4       73.700                   NaN  \n",
       "...        ...                   ...  \n",
       "2863    73.454              1.656497  \n",
       "2864    74.672              1.749096  \n",
       "2865    73.170              1.440432  \n",
       "2866    75.856              1.851984  \n",
       "2867    91.165              0.771660  \n",
       "\n",
       "[2868 rows x 6 columns]"
      ]
     },
     "execution_count": 2,
     "metadata": {},
     "output_type": "execute_result"
    }
   ],
   "source": [
    "data=pd.read_csv('./PokharaDaily.csv')\n",
    "data"
   ]
  },
  {
   "cell_type": "code",
   "execution_count": 3,
   "metadata": {},
   "outputs": [
    {
     "data": {
      "text/html": [
       "<div>\n",
       "<style scoped>\n",
       "    .dataframe tbody tr th:only-of-type {\n",
       "        vertical-align: middle;\n",
       "    }\n",
       "\n",
       "    .dataframe tbody tr th {\n",
       "        vertical-align: top;\n",
       "    }\n",
       "\n",
       "    .dataframe thead th {\n",
       "        text-align: right;\n",
       "    }\n",
       "</style>\n",
       "<table border=\"1\" class=\"dataframe\">\n",
       "  <thead>\n",
       "    <tr style=\"text-align: right;\">\n",
       "      <th></th>\n",
       "      <th>Precipitation</th>\n",
       "      <th>Max Temperature</th>\n",
       "      <th>Min Temperature</th>\n",
       "      <th>Humidity</th>\n",
       "      <th>Pokhara Airport(m/s)</th>\n",
       "    </tr>\n",
       "  </thead>\n",
       "  <tbody>\n",
       "    <tr>\n",
       "      <th>count</th>\n",
       "      <td>2769.000000</td>\n",
       "      <td>2867.000000</td>\n",
       "      <td>2868.000000</td>\n",
       "      <td>2868.000000</td>\n",
       "      <td>1042.000000</td>\n",
       "    </tr>\n",
       "    <tr>\n",
       "      <th>mean</th>\n",
       "      <td>10.750556</td>\n",
       "      <td>27.520823</td>\n",
       "      <td>16.494979</td>\n",
       "      <td>75.244973</td>\n",
       "      <td>1.675741</td>\n",
       "    </tr>\n",
       "    <tr>\n",
       "      <th>std</th>\n",
       "      <td>25.861436</td>\n",
       "      <td>4.378206</td>\n",
       "      <td>5.618028</td>\n",
       "      <td>10.550223</td>\n",
       "      <td>0.423469</td>\n",
       "    </tr>\n",
       "    <tr>\n",
       "      <th>min</th>\n",
       "      <td>0.000000</td>\n",
       "      <td>10.900000</td>\n",
       "      <td>3.200000</td>\n",
       "      <td>30.600000</td>\n",
       "      <td>0.000000</td>\n",
       "    </tr>\n",
       "    <tr>\n",
       "      <th>25%</th>\n",
       "      <td>0.000000</td>\n",
       "      <td>24.200000</td>\n",
       "      <td>11.700000</td>\n",
       "      <td>69.948500</td>\n",
       "      <td>1.440432</td>\n",
       "    </tr>\n",
       "    <tr>\n",
       "      <th>50%</th>\n",
       "      <td>0.000000</td>\n",
       "      <td>28.500000</td>\n",
       "      <td>17.500000</td>\n",
       "      <td>76.401000</td>\n",
       "      <td>1.646208</td>\n",
       "    </tr>\n",
       "    <tr>\n",
       "      <th>75%</th>\n",
       "      <td>8.600000</td>\n",
       "      <td>31.200000</td>\n",
       "      <td>21.700000</td>\n",
       "      <td>82.074500</td>\n",
       "      <td>1.954872</td>\n",
       "    </tr>\n",
       "    <tr>\n",
       "      <th>max</th>\n",
       "      <td>280.000000</td>\n",
       "      <td>35.000000</td>\n",
       "      <td>25.700000</td>\n",
       "      <td>98.736000</td>\n",
       "      <td>3.806856</td>\n",
       "    </tr>\n",
       "  </tbody>\n",
       "</table>\n",
       "</div>"
      ],
      "text/plain": [
       "       Precipitation  Max Temperature  Min Temperature     Humidity  \\\n",
       "count    2769.000000      2867.000000      2868.000000  2868.000000   \n",
       "mean       10.750556        27.520823        16.494979    75.244973   \n",
       "std        25.861436         4.378206         5.618028    10.550223   \n",
       "min         0.000000        10.900000         3.200000    30.600000   \n",
       "25%         0.000000        24.200000        11.700000    69.948500   \n",
       "50%         0.000000        28.500000        17.500000    76.401000   \n",
       "75%         8.600000        31.200000        21.700000    82.074500   \n",
       "max       280.000000        35.000000        25.700000    98.736000   \n",
       "\n",
       "       Pokhara Airport(m/s)  \n",
       "count           1042.000000  \n",
       "mean               1.675741  \n",
       "std                0.423469  \n",
       "min                0.000000  \n",
       "25%                1.440432  \n",
       "50%                1.646208  \n",
       "75%                1.954872  \n",
       "max                3.806856  "
      ]
     },
     "execution_count": 3,
     "metadata": {},
     "output_type": "execute_result"
    }
   ],
   "source": [
    "data.describe()"
   ]
  },
  {
   "cell_type": "code",
   "execution_count": 4,
   "metadata": {},
   "outputs": [
    {
     "data": {
      "text/plain": [
       "35.0"
      ]
     },
     "execution_count": 4,
     "metadata": {},
     "output_type": "execute_result"
    }
   ],
   "source": [
    "maxthreshold= data['Max Temperature'].quantile(.9999)\n",
    "maxthreshold"
   ]
  },
  {
   "cell_type": "code",
   "execution_count": 5,
   "metadata": {},
   "outputs": [
    {
     "data": {
      "text/html": [
       "<div>\n",
       "<style scoped>\n",
       "    .dataframe tbody tr th:only-of-type {\n",
       "        vertical-align: middle;\n",
       "    }\n",
       "\n",
       "    .dataframe tbody tr th {\n",
       "        vertical-align: top;\n",
       "    }\n",
       "\n",
       "    .dataframe thead th {\n",
       "        text-align: right;\n",
       "    }\n",
       "</style>\n",
       "<table border=\"1\" class=\"dataframe\">\n",
       "  <thead>\n",
       "    <tr style=\"text-align: right;\">\n",
       "      <th></th>\n",
       "      <th>Date</th>\n",
       "      <th>Precipitation</th>\n",
       "      <th>Max Temperature</th>\n",
       "      <th>Min Temperature</th>\n",
       "      <th>Humidity</th>\n",
       "      <th>Pokhara Airport(m/s)</th>\n",
       "    </tr>\n",
       "  </thead>\n",
       "  <tbody>\n",
       "  </tbody>\n",
       "</table>\n",
       "</div>"
      ],
      "text/plain": [
       "Empty DataFrame\n",
       "Columns: [Date, Precipitation, Max Temperature, Min Temperature, Humidity, Pokhara Airport(m/s)]\n",
       "Index: []"
      ]
     },
     "execution_count": 5,
     "metadata": {},
     "output_type": "execute_result"
    }
   ],
   "source": [
    "'''checking the data if there presents more that\n",
    "threshold value'''\n",
    "data[data['Max Temperature']>maxthreshold]"
   ]
  },
  {
   "cell_type": "code",
   "execution_count": 6,
   "metadata": {},
   "outputs": [
    {
     "data": {
      "text/plain": [
       "11.01464"
      ]
     },
     "execution_count": 6,
     "metadata": {},
     "output_type": "execute_result"
    }
   ],
   "source": [
    "#checking the minimum threshold of maximum tempertaure buy analyzing the data pattern to set the percentile value\n",
    "minthreshold= data['Max Temperature'].quantile(.0001)\n",
    "minthreshold"
   ]
  },
  {
   "cell_type": "code",
   "execution_count": 7,
   "metadata": {},
   "outputs": [
    {
     "data": {
      "text/html": [
       "<div>\n",
       "<style scoped>\n",
       "    .dataframe tbody tr th:only-of-type {\n",
       "        vertical-align: middle;\n",
       "    }\n",
       "\n",
       "    .dataframe tbody tr th {\n",
       "        vertical-align: top;\n",
       "    }\n",
       "\n",
       "    .dataframe thead th {\n",
       "        text-align: right;\n",
       "    }\n",
       "</style>\n",
       "<table border=\"1\" class=\"dataframe\">\n",
       "  <thead>\n",
       "    <tr style=\"text-align: right;\">\n",
       "      <th></th>\n",
       "      <th>Date</th>\n",
       "      <th>Precipitation</th>\n",
       "      <th>Max Temperature</th>\n",
       "      <th>Min Temperature</th>\n",
       "      <th>Humidity</th>\n",
       "      <th>Pokhara Airport(m/s)</th>\n",
       "    </tr>\n",
       "  </thead>\n",
       "  <tbody>\n",
       "    <tr>\n",
       "      <th>2554</th>\n",
       "      <td>29/12/2021 3:00</td>\n",
       "      <td>6.5</td>\n",
       "      <td>10.9</td>\n",
       "      <td>10.0</td>\n",
       "      <td>98.378</td>\n",
       "      <td>1.234656</td>\n",
       "    </tr>\n",
       "  </tbody>\n",
       "</table>\n",
       "</div>"
      ],
      "text/plain": [
       "                 Date  Precipitation  Max Temperature  Min Temperature  \\\n",
       "2554  29/12/2021 3:00            6.5             10.9             10.0   \n",
       "\n",
       "      Humidity  Pokhara Airport(m/s)  \n",
       "2554    98.378              1.234656  "
      ]
     },
     "execution_count": 7,
     "metadata": {},
     "output_type": "execute_result"
    }
   ],
   "source": [
    "#checking the data in the dataframe with minimum threshold\n",
    "data[data['Max Temperature']<minthreshold]"
   ]
  },
  {
   "cell_type": "code",
   "execution_count": 8,
   "metadata": {},
   "outputs": [
    {
     "data": {
      "text/plain": [
       "pandas.core.series.Series"
      ]
     },
     "execution_count": 8,
     "metadata": {},
     "output_type": "execute_result"
    }
   ],
   "source": [
    "type(data['Max Temperature'])"
   ]
  },
  {
   "cell_type": "markdown",
   "metadata": {},
   "source": [
    "# smoothing max temperature of different stations"
   ]
  },
  {
   "cell_type": "code",
   "execution_count": 11,
   "metadata": {},
   "outputs": [
    {
     "data": {
      "text/html": [
       "<div>\n",
       "<style scoped>\n",
       "    .dataframe tbody tr th:only-of-type {\n",
       "        vertical-align: middle;\n",
       "    }\n",
       "\n",
       "    .dataframe tbody tr th {\n",
       "        vertical-align: top;\n",
       "    }\n",
       "\n",
       "    .dataframe thead th {\n",
       "        text-align: right;\n",
       "    }\n",
       "</style>\n",
       "<table border=\"1\" class=\"dataframe\">\n",
       "  <thead>\n",
       "    <tr style=\"text-align: right;\">\n",
       "      <th></th>\n",
       "      <th>Time</th>\n",
       "      <th>Pokhara Airport</th>\n",
       "      <th>Lumle</th>\n",
       "      <th>Begnas</th>\n",
       "    </tr>\n",
       "  </thead>\n",
       "  <tbody>\n",
       "    <tr>\n",
       "      <th>0</th>\n",
       "      <td>01/01/2015 12:00</td>\n",
       "      <td>17.6</td>\n",
       "      <td>15.0</td>\n",
       "      <td>17.500000</td>\n",
       "    </tr>\n",
       "    <tr>\n",
       "      <th>1</th>\n",
       "      <td>01/02/2015 12:00</td>\n",
       "      <td>17.1</td>\n",
       "      <td>12.5</td>\n",
       "      <td>17.500000</td>\n",
       "    </tr>\n",
       "    <tr>\n",
       "      <th>2</th>\n",
       "      <td>01/03/2015 12:00</td>\n",
       "      <td>17.0</td>\n",
       "      <td>13.5</td>\n",
       "      <td>17.500000</td>\n",
       "    </tr>\n",
       "    <tr>\n",
       "      <th>3</th>\n",
       "      <td>01/04/2015 12:00</td>\n",
       "      <td>22.6</td>\n",
       "      <td>14.5</td>\n",
       "      <td>22.500000</td>\n",
       "    </tr>\n",
       "    <tr>\n",
       "      <th>4</th>\n",
       "      <td>01/05/2015 12:00</td>\n",
       "      <td>20.5</td>\n",
       "      <td>13.5</td>\n",
       "      <td>20.600000</td>\n",
       "    </tr>\n",
       "    <tr>\n",
       "      <th>...</th>\n",
       "      <td>...</td>\n",
       "      <td>...</td>\n",
       "      <td>...</td>\n",
       "      <td>...</td>\n",
       "    </tr>\n",
       "    <tr>\n",
       "      <th>2862</th>\n",
       "      <td>11/02/2022 12:00</td>\n",
       "      <td>26.8</td>\n",
       "      <td>19.5</td>\n",
       "      <td>28.466667</td>\n",
       "    </tr>\n",
       "    <tr>\n",
       "      <th>2863</th>\n",
       "      <td>11/03/2022 12:00</td>\n",
       "      <td>26.9</td>\n",
       "      <td>19.0</td>\n",
       "      <td>28.266667</td>\n",
       "    </tr>\n",
       "    <tr>\n",
       "      <th>2864</th>\n",
       "      <td>11/04/2022 12:00</td>\n",
       "      <td>27.5</td>\n",
       "      <td>19.5</td>\n",
       "      <td>27.450000</td>\n",
       "    </tr>\n",
       "    <tr>\n",
       "      <th>2865</th>\n",
       "      <td>11/05/2022 12:00</td>\n",
       "      <td>28.4</td>\n",
       "      <td>21.0</td>\n",
       "      <td>27.666667</td>\n",
       "    </tr>\n",
       "    <tr>\n",
       "      <th>2866</th>\n",
       "      <td>11/06/2022 12:00</td>\n",
       "      <td>27.2</td>\n",
       "      <td>20.0</td>\n",
       "      <td>27.600000</td>\n",
       "    </tr>\n",
       "  </tbody>\n",
       "</table>\n",
       "<p>2867 rows × 4 columns</p>\n",
       "</div>"
      ],
      "text/plain": [
       "                  Time  Pokhara Airport  Lumle     Begnas\n",
       "0     01/01/2015 12:00             17.6   15.0  17.500000\n",
       "1     01/02/2015 12:00             17.1   12.5  17.500000\n",
       "2     01/03/2015 12:00             17.0   13.5  17.500000\n",
       "3     01/04/2015 12:00             22.6   14.5  22.500000\n",
       "4     01/05/2015 12:00             20.5   13.5  20.600000\n",
       "...                ...              ...    ...        ...\n",
       "2862  11/02/2022 12:00             26.8   19.5  28.466667\n",
       "2863  11/03/2022 12:00             26.9   19.0  28.266667\n",
       "2864  11/04/2022 12:00             27.5   19.5  27.450000\n",
       "2865  11/05/2022 12:00             28.4   21.0  27.666667\n",
       "2866  11/06/2022 12:00             27.2   20.0  27.600000\n",
       "\n",
       "[2867 rows x 4 columns]"
      ]
     },
     "execution_count": 11,
     "metadata": {},
     "output_type": "execute_result"
    }
   ],
   "source": [
    "Max=pd.read_csv('./MaxTempr.csv')\n",
    "Max"
   ]
  },
  {
   "cell_type": "code",
   "execution_count": 23,
   "metadata": {},
   "outputs": [],
   "source": [
    "Max['Time']=pd.to_datetime(Max['Time'])\n",
    "maximum=Max.set_index('Time')"
   ]
  },
  {
   "cell_type": "code",
   "execution_count": 38,
   "metadata": {},
   "outputs": [
    {
     "data": {
      "text/plain": [
       "Pokhara Airport    35.0000\n",
       "Lumle              28.0000\n",
       "Begnas             37.8843\n",
       "Name: 0.9999, dtype: float64"
      ]
     },
     "execution_count": 38,
     "metadata": {},
     "output_type": "execute_result"
    }
   ],
   "source": [
    "Maxthreshold= maximum.quantile(.9999)\n",
    "Maxthreshold"
   ]
  },
  {
   "cell_type": "code",
   "execution_count": 56,
   "metadata": {},
   "outputs": [
    {
     "data": {
      "text/html": [
       "<div>\n",
       "<style scoped>\n",
       "    .dataframe tbody tr th:only-of-type {\n",
       "        vertical-align: middle;\n",
       "    }\n",
       "\n",
       "    .dataframe tbody tr th {\n",
       "        vertical-align: top;\n",
       "    }\n",
       "\n",
       "    .dataframe thead th {\n",
       "        text-align: right;\n",
       "    }\n",
       "</style>\n",
       "<table border=\"1\" class=\"dataframe\">\n",
       "  <thead>\n",
       "    <tr style=\"text-align: right;\">\n",
       "      <th></th>\n",
       "      <th>Pokhara Airport</th>\n",
       "      <th>Lumle</th>\n",
       "      <th>Begnas</th>\n",
       "    </tr>\n",
       "    <tr>\n",
       "      <th>Time</th>\n",
       "      <th></th>\n",
       "      <th></th>\n",
       "      <th></th>\n",
       "    </tr>\n",
       "  </thead>\n",
       "  <tbody>\n",
       "    <tr>\n",
       "      <th>2015-04-12 12:00:00</th>\n",
       "      <td>27.9</td>\n",
       "      <td>20.0</td>\n",
       "      <td>38.4</td>\n",
       "    </tr>\n",
       "  </tbody>\n",
       "</table>\n",
       "</div>"
      ],
      "text/plain": [
       "                     Pokhara Airport  Lumle  Begnas\n",
       "Time                                               \n",
       "2015-04-12 12:00:00             27.9   20.0    38.4"
      ]
     },
     "execution_count": 56,
     "metadata": {},
     "output_type": "execute_result"
    }
   ],
   "source": [
    "'''checking the data if there presents more that\n",
    "threshold value'''\n",
    "maximum[maximum['Begnas']>Maxthreshold['Begnas']]"
   ]
  },
  {
   "cell_type": "code",
   "execution_count": 51,
   "metadata": {},
   "outputs": [
    {
     "data": {
      "text/plain": [
       "Pokhara Airport    13.13176\n",
       "Lumle               8.50000\n",
       "Begnas             12.71900\n",
       "Name: 0.0012, dtype: float64"
      ]
     },
     "execution_count": 51,
     "metadata": {},
     "output_type": "execute_result"
    }
   ],
   "source": [
    "Minthreshold= Max.quantile(.0012)\n",
    "Minthreshold"
   ]
  },
  {
   "cell_type": "code",
   "execution_count": 52,
   "metadata": {},
   "outputs": [
    {
     "data": {
      "text/html": [
       "<div>\n",
       "<style scoped>\n",
       "    .dataframe tbody tr th:only-of-type {\n",
       "        vertical-align: middle;\n",
       "    }\n",
       "\n",
       "    .dataframe tbody tr th {\n",
       "        vertical-align: top;\n",
       "    }\n",
       "\n",
       "    .dataframe thead th {\n",
       "        text-align: right;\n",
       "    }\n",
       "</style>\n",
       "<table border=\"1\" class=\"dataframe\">\n",
       "  <thead>\n",
       "    <tr style=\"text-align: right;\">\n",
       "      <th></th>\n",
       "      <th>Pokhara Airport</th>\n",
       "      <th>Lumle</th>\n",
       "      <th>Begnas</th>\n",
       "    </tr>\n",
       "    <tr>\n",
       "      <th>Time</th>\n",
       "      <th></th>\n",
       "      <th></th>\n",
       "      <th></th>\n",
       "    </tr>\n",
       "  </thead>\n",
       "  <tbody>\n",
       "    <tr>\n",
       "      <th>2020-01-03 12:00:00</th>\n",
       "      <td>11.3</td>\n",
       "      <td>7.5</td>\n",
       "      <td>11.0</td>\n",
       "    </tr>\n",
       "    <tr>\n",
       "      <th>2022-02-04 12:00:00</th>\n",
       "      <td>13.0</td>\n",
       "      <td>6.5</td>\n",
       "      <td>17.6</td>\n",
       "    </tr>\n",
       "  </tbody>\n",
       "</table>\n",
       "</div>"
      ],
      "text/plain": [
       "                     Pokhara Airport  Lumle  Begnas\n",
       "Time                                               \n",
       "2020-01-03 12:00:00             11.3    7.5    11.0\n",
       "2022-02-04 12:00:00             13.0    6.5    17.6"
      ]
     },
     "execution_count": 52,
     "metadata": {},
     "output_type": "execute_result"
    }
   ],
   "source": [
    "maximum[maximum['Lumle']<Minthreshold['Lumle']]"
   ]
  }
 ],
 "metadata": {
  "kernelspec": {
   "display_name": "Python 3.9.12 ('base')",
   "language": "python",
   "name": "python3"
  },
  "language_info": {
   "codemirror_mode": {
    "name": "ipython",
    "version": 3
   },
   "file_extension": ".py",
   "mimetype": "text/x-python",
   "name": "python",
   "nbconvert_exporter": "python",
   "pygments_lexer": "ipython3",
   "version": "3.9.12"
  },
  "orig_nbformat": 4,
  "vscode": {
   "interpreter": {
    "hash": "c625bab7c287ecdc7cf57830fd8ee2e4e101d09a77a38cba16bfa62a8e90dead"
   }
  }
 },
 "nbformat": 4,
 "nbformat_minor": 2
}
