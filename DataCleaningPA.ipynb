{
 "cells": [
  {
   "cell_type": "code",
   "execution_count": 1,
   "metadata": {},
   "outputs": [],
   "source": [
    "import pandas as pd\n",
    "import numpy as np\n",
    "import seaborn as sns\n",
    "import os\n",
    "\n"
   ]
  },
  {
   "cell_type": "code",
   "execution_count": 2,
   "metadata": {},
   "outputs": [
    {
     "name": "stdout",
     "output_type": "stream",
     "text": [
      "['PAHourly.csv', 'PAwindspeed.csv', 'DataCleaningPA.ipynb', '.ipynb_checkpoints', '.git']\n"
     ]
    }
   ],
   "source": [
    "print(os.listdir())"
   ]
  },
  {
   "cell_type": "code",
   "execution_count": 3,
   "metadata": {},
   "outputs": [],
   "source": [
    "df = pd.read_csv('./PAHourly.csv')"
   ]
  },
  {
   "cell_type": "code",
   "execution_count": 4,
   "metadata": {},
   "outputs": [
    {
     "data": {
      "text/html": [
       "<div>\n",
       "<style scoped>\n",
       "    .dataframe tbody tr th:only-of-type {\n",
       "        vertical-align: middle;\n",
       "    }\n",
       "\n",
       "    .dataframe tbody tr th {\n",
       "        vertical-align: top;\n",
       "    }\n",
       "\n",
       "    .dataframe thead th {\n",
       "        text-align: right;\n",
       "    }\n",
       "</style>\n",
       "<table border=\"1\" class=\"dataframe\">\n",
       "  <thead>\n",
       "    <tr style=\"text-align: right;\">\n",
       "      <th></th>\n",
       "      <th>Time</th>\n",
       "      <th>Accumulated Precipitation for last 1 h(Avg)</th>\n",
       "      <th>Air Temperature 1 Hour Average(Avg)</th>\n",
       "      <th>Relative Humidity 1 hour average(Avg)</th>\n",
       "    </tr>\n",
       "  </thead>\n",
       "  <tbody>\n",
       "    <tr>\n",
       "      <th>0</th>\n",
       "      <td>11/11/2019 06:00:00</td>\n",
       "      <td>0.0</td>\n",
       "      <td>23.4</td>\n",
       "      <td>69.399</td>\n",
       "    </tr>\n",
       "    <tr>\n",
       "      <th>1</th>\n",
       "      <td>11/11/2019 07:00:00</td>\n",
       "      <td>0.0</td>\n",
       "      <td>24.3</td>\n",
       "      <td>64.700</td>\n",
       "    </tr>\n",
       "    <tr>\n",
       "      <th>2</th>\n",
       "      <td>11/11/2019 08:00:00</td>\n",
       "      <td>0.0</td>\n",
       "      <td>25.0</td>\n",
       "      <td>59.300</td>\n",
       "    </tr>\n",
       "    <tr>\n",
       "      <th>3</th>\n",
       "      <td>11/11/2019 09:00:00</td>\n",
       "      <td>0.0</td>\n",
       "      <td>25.4</td>\n",
       "      <td>57.500</td>\n",
       "    </tr>\n",
       "    <tr>\n",
       "      <th>4</th>\n",
       "      <td>11/11/2019 10:00:00</td>\n",
       "      <td>0.0</td>\n",
       "      <td>24.8</td>\n",
       "      <td>60.400</td>\n",
       "    </tr>\n",
       "    <tr>\n",
       "      <th>...</th>\n",
       "      <td>...</td>\n",
       "      <td>...</td>\n",
       "      <td>...</td>\n",
       "      <td>...</td>\n",
       "    </tr>\n",
       "    <tr>\n",
       "      <th>25128</th>\n",
       "      <td>11/07/2022 02:00:00</td>\n",
       "      <td>0.0</td>\n",
       "      <td>15.3</td>\n",
       "      <td>100.000</td>\n",
       "    </tr>\n",
       "    <tr>\n",
       "      <th>25129</th>\n",
       "      <td>11/07/2022 03:00:00</td>\n",
       "      <td>0.0</td>\n",
       "      <td>17.3</td>\n",
       "      <td>100.000</td>\n",
       "    </tr>\n",
       "    <tr>\n",
       "      <th>25130</th>\n",
       "      <td>11/07/2022 04:00:00</td>\n",
       "      <td>0.0</td>\n",
       "      <td>19.4</td>\n",
       "      <td>91.600</td>\n",
       "    </tr>\n",
       "    <tr>\n",
       "      <th>25131</th>\n",
       "      <td>11/07/2022 05:00:00</td>\n",
       "      <td>0.0</td>\n",
       "      <td>21.5</td>\n",
       "      <td>74.300</td>\n",
       "    </tr>\n",
       "    <tr>\n",
       "      <th>25132</th>\n",
       "      <td>11/07/2022 06:00:00</td>\n",
       "      <td>0.0</td>\n",
       "      <td>23.3</td>\n",
       "      <td>61.600</td>\n",
       "    </tr>\n",
       "  </tbody>\n",
       "</table>\n",
       "<p>25133 rows × 4 columns</p>\n",
       "</div>"
      ],
      "text/plain": [
       "                      Time  Accumulated Precipitation for last 1 h(Avg)  \\\n",
       "0      11/11/2019 06:00:00                                          0.0   \n",
       "1      11/11/2019 07:00:00                                          0.0   \n",
       "2      11/11/2019 08:00:00                                          0.0   \n",
       "3      11/11/2019 09:00:00                                          0.0   \n",
       "4      11/11/2019 10:00:00                                          0.0   \n",
       "...                    ...                                          ...   \n",
       "25128  11/07/2022 02:00:00                                          0.0   \n",
       "25129  11/07/2022 03:00:00                                          0.0   \n",
       "25130  11/07/2022 04:00:00                                          0.0   \n",
       "25131  11/07/2022 05:00:00                                          0.0   \n",
       "25132  11/07/2022 06:00:00                                          0.0   \n",
       "\n",
       "       Air Temperature 1 Hour Average(Avg)  \\\n",
       "0                                     23.4   \n",
       "1                                     24.3   \n",
       "2                                     25.0   \n",
       "3                                     25.4   \n",
       "4                                     24.8   \n",
       "...                                    ...   \n",
       "25128                                 15.3   \n",
       "25129                                 17.3   \n",
       "25130                                 19.4   \n",
       "25131                                 21.5   \n",
       "25132                                 23.3   \n",
       "\n",
       "       Relative Humidity 1 hour average(Avg)  \n",
       "0                                     69.399  \n",
       "1                                     64.700  \n",
       "2                                     59.300  \n",
       "3                                     57.500  \n",
       "4                                     60.400  \n",
       "...                                      ...  \n",
       "25128                                100.000  \n",
       "25129                                100.000  \n",
       "25130                                 91.600  \n",
       "25131                                 74.300  \n",
       "25132                                 61.600  \n",
       "\n",
       "[25133 rows x 4 columns]"
      ]
     },
     "execution_count": 4,
     "metadata": {},
     "output_type": "execute_result"
    }
   ],
   "source": [
    "df"
   ]
  },
  {
   "cell_type": "markdown",
   "metadata": {},
   "source": [
    "To find the null value "
   ]
  },
  {
   "cell_type": "code",
   "execution_count": 5,
   "metadata": {},
   "outputs": [
    {
     "data": {
      "text/plain": [
       "Time                                             0\n",
       "Accumulated Precipitation for last 1 h(Avg)    531\n",
       "Air Temperature 1 Hour Average(Avg)            223\n",
       "Relative Humidity 1 hour average(Avg)           18\n",
       "dtype: int64"
      ]
     },
     "execution_count": 5,
     "metadata": {},
     "output_type": "execute_result"
    }
   ],
   "source": [
    "df.isnull().sum()"
   ]
  },
  {
   "cell_type": "markdown",
   "metadata": {},
   "source": [
    "Particularly knowing the possible Null values"
   ]
  },
  {
   "cell_type": "code",
   "execution_count": 6,
   "metadata": {},
   "outputs": [
    {
     "name": "stdout",
     "output_type": "stream",
     "text": [
      "                      Time  Accumulated Precipitation for last 1 h(Avg)  \\\n",
      "0      11/11/2019 06:00:00                                          0.0   \n",
      "1      11/11/2019 07:00:00                                          0.0   \n",
      "2      11/11/2019 08:00:00                                          0.0   \n",
      "3      11/11/2019 09:00:00                                          0.0   \n",
      "4      11/11/2019 10:00:00                                          0.0   \n",
      "...                    ...                                          ...   \n",
      "25128  11/07/2022 02:00:00                                          0.0   \n",
      "25129  11/07/2022 03:00:00                                          0.0   \n",
      "25130  11/07/2022 04:00:00                                          0.0   \n",
      "25131  11/07/2022 05:00:00                                          0.0   \n",
      "25132  11/07/2022 06:00:00                                          0.0   \n",
      "\n",
      "       Air Temperature 1 Hour Average(Avg)  \\\n",
      "0                                     23.4   \n",
      "1                                     24.3   \n",
      "2                                     25.0   \n",
      "3                                     25.4   \n",
      "4                                     24.8   \n",
      "...                                    ...   \n",
      "25128                                 15.3   \n",
      "25129                                 17.3   \n",
      "25130                                 19.4   \n",
      "25131                                 21.5   \n",
      "25132                                 23.3   \n",
      "\n",
      "       Relative Humidity 1 hour average(Avg)  \n",
      "0                                     69.399  \n",
      "1                                     64.700  \n",
      "2                                     59.300  \n",
      "3                                     57.500  \n",
      "4                                     60.400  \n",
      "...                                      ...  \n",
      "25128                                100.000  \n",
      "25129                                100.000  \n",
      "25130                                 91.600  \n",
      "25131                                 74.300  \n",
      "25132                                 61.600  \n",
      "\n",
      "[25133 rows x 4 columns]\n"
     ]
    }
   ],
   "source": [
    "missing_values =['N/A','na',np.nan]\n",
    "df= pd.read_csv('./PAHourly.csv', na_values=missing_values)\n",
    "print(df)"
   ]
  },
  {
   "cell_type": "code",
   "execution_count": 7,
   "metadata": {},
   "outputs": [
    {
     "data": {
      "text/plain": [
       "Time                                             0\n",
       "Accumulated Precipitation for last 1 h(Avg)    531\n",
       "Air Temperature 1 Hour Average(Avg)            223\n",
       "Relative Humidity 1 hour average(Avg)           18\n",
       "dtype: int64"
      ]
     },
     "execution_count": 7,
     "metadata": {},
     "output_type": "execute_result"
    }
   ],
   "source": [
    "df.isnull().sum()"
   ]
  },
  {
   "cell_type": "markdown",
   "metadata": {},
   "source": [
    "plotting the null values in Heatmap"
   ]
  },
  {
   "cell_type": "code",
   "execution_count": 8,
   "metadata": {},
   "outputs": [],
   "source": [
    "#sns.heatmap(df.isnull(), yticklabels= False, annot=True)"
   ]
  },
  {
   "cell_type": "markdown",
   "metadata": {},
   "source": [
    "# Checking the If their exist missing date or not!"
   ]
  },
  {
   "cell_type": "code",
   "execution_count": 9,
   "metadata": {},
   "outputs": [
    {
     "name": "stdout",
     "output_type": "stream",
     "text": [
      "DatetimeIndex(['2019-11-21 22:00:00', '2019-12-10 22:00:00',\n",
      "               '2019-12-15 22:00:00', '2019-12-22 22:00:00',\n",
      "               '2019-12-31 22:00:00', '2020-01-08 22:00:00',\n",
      "               '2020-01-23 22:00:00', '2020-01-24 22:00:00',\n",
      "               '2020-01-25 22:00:00', '2020-01-26 22:00:00',\n",
      "               '2020-01-27 22:00:00', '2020-01-28 22:00:00',\n",
      "               '2020-01-29 22:00:00', '2020-01-31 22:00:00',\n",
      "               '2020-02-19 22:00:00', '2020-02-22 22:00:00',\n",
      "               '2020-03-13 22:00:00', '2020-03-14 22:00:00',\n",
      "               '2020-04-11 22:00:00', '2020-04-18 22:00:00',\n",
      "               '2020-08-28 22:00:00', '2020-09-27 22:00:00',\n",
      "               '2020-09-28 22:00:00', '2020-09-29 22:00:00',\n",
      "               '2020-09-30 22:00:00', '2020-10-01 22:00:00',\n",
      "               '2020-10-05 22:00:00', '2020-10-10 22:00:00',\n",
      "               '2020-10-11 22:00:00', '2020-10-31 22:00:00',\n",
      "               '2020-11-28 22:00:00', '2020-11-29 22:00:00',\n",
      "               '2020-12-31 22:00:00', '2021-02-14 22:00:00',\n",
      "               '2021-02-15 22:00:00', '2021-02-22 22:00:00',\n",
      "               '2022-03-25 22:00:00', '2022-04-25 22:00:00',\n",
      "               '2022-08-18 22:00:00', '2022-10-10 22:00:00',\n",
      "               '2022-10-11 22:00:00', '2022-10-12 22:00:00',\n",
      "               '2022-10-13 22:00:00', '2022-10-14 22:00:00',\n",
      "               '2022-10-15 22:00:00', '2022-10-16 22:00:00',\n",
      "               '2022-10-17 22:00:00'],\n",
      "              dtype='datetime64[ns]', freq=None)\n"
     ]
    }
   ],
   "source": [
    "#setting the time value as Index\n",
    "df = df.set_index('Time')\n",
    "df.index=pd.to_datetime(df.index)\n",
    "print(pd.date_range(\n",
    "    start=\"11/11/2019 22:00:00\" , end=\"11/07/2022 06:00:00\"\n",
    ").difference(df.index))"
   ]
  },
  {
   "cell_type": "markdown",
   "metadata": {},
   "source": [
    "# addding all the time that are missing "
   ]
  },
  {
   "cell_type": "code",
   "execution_count": 11,
   "metadata": {},
   "outputs": [
    {
     "data": {
      "text/html": [
       "<div>\n",
       "<style scoped>\n",
       "    .dataframe tbody tr th:only-of-type {\n",
       "        vertical-align: middle;\n",
       "    }\n",
       "\n",
       "    .dataframe tbody tr th {\n",
       "        vertical-align: top;\n",
       "    }\n",
       "\n",
       "    .dataframe thead th {\n",
       "        text-align: right;\n",
       "    }\n",
       "</style>\n",
       "<table border=\"1\" class=\"dataframe\">\n",
       "  <thead>\n",
       "    <tr style=\"text-align: right;\">\n",
       "      <th></th>\n",
       "      <th>Accumulated Precipitation for last 1 h(Avg)</th>\n",
       "      <th>Air Temperature 1 Hour Average(Avg)</th>\n",
       "      <th>Relative Humidity 1 hour average(Avg)</th>\n",
       "    </tr>\n",
       "    <tr>\n",
       "      <th>Time</th>\n",
       "      <th></th>\n",
       "      <th></th>\n",
       "      <th></th>\n",
       "    </tr>\n",
       "  </thead>\n",
       "  <tbody>\n",
       "    <tr>\n",
       "      <th>2019-11-11 06:00:00</th>\n",
       "      <td>0.0</td>\n",
       "      <td>23.4</td>\n",
       "      <td>69.399</td>\n",
       "    </tr>\n",
       "    <tr>\n",
       "      <th>2019-11-11 07:00:00</th>\n",
       "      <td>0.0</td>\n",
       "      <td>24.3</td>\n",
       "      <td>64.700</td>\n",
       "    </tr>\n",
       "    <tr>\n",
       "      <th>2019-11-11 08:00:00</th>\n",
       "      <td>0.0</td>\n",
       "      <td>25.0</td>\n",
       "      <td>59.300</td>\n",
       "    </tr>\n",
       "    <tr>\n",
       "      <th>2019-11-11 09:00:00</th>\n",
       "      <td>0.0</td>\n",
       "      <td>25.4</td>\n",
       "      <td>57.500</td>\n",
       "    </tr>\n",
       "    <tr>\n",
       "      <th>2019-11-11 10:00:00</th>\n",
       "      <td>0.0</td>\n",
       "      <td>24.8</td>\n",
       "      <td>60.400</td>\n",
       "    </tr>\n",
       "    <tr>\n",
       "      <th>...</th>\n",
       "      <td>...</td>\n",
       "      <td>...</td>\n",
       "      <td>...</td>\n",
       "    </tr>\n",
       "    <tr>\n",
       "      <th>2022-11-07 02:00:00</th>\n",
       "      <td>0.0</td>\n",
       "      <td>15.3</td>\n",
       "      <td>100.000</td>\n",
       "    </tr>\n",
       "    <tr>\n",
       "      <th>2022-11-07 03:00:00</th>\n",
       "      <td>0.0</td>\n",
       "      <td>17.3</td>\n",
       "      <td>100.000</td>\n",
       "    </tr>\n",
       "    <tr>\n",
       "      <th>2022-11-07 04:00:00</th>\n",
       "      <td>0.0</td>\n",
       "      <td>19.4</td>\n",
       "      <td>91.600</td>\n",
       "    </tr>\n",
       "    <tr>\n",
       "      <th>2022-11-07 05:00:00</th>\n",
       "      <td>0.0</td>\n",
       "      <td>21.5</td>\n",
       "      <td>74.300</td>\n",
       "    </tr>\n",
       "    <tr>\n",
       "      <th>2022-11-07 06:00:00</th>\n",
       "      <td>0.0</td>\n",
       "      <td>23.3</td>\n",
       "      <td>61.600</td>\n",
       "    </tr>\n",
       "  </tbody>\n",
       "</table>\n",
       "<p>25133 rows × 3 columns</p>\n",
       "</div>"
      ],
      "text/plain": [
       "                     Accumulated Precipitation for last 1 h(Avg)  \\\n",
       "Time                                                               \n",
       "2019-11-11 06:00:00                                          0.0   \n",
       "2019-11-11 07:00:00                                          0.0   \n",
       "2019-11-11 08:00:00                                          0.0   \n",
       "2019-11-11 09:00:00                                          0.0   \n",
       "2019-11-11 10:00:00                                          0.0   \n",
       "...                                                          ...   \n",
       "2022-11-07 02:00:00                                          0.0   \n",
       "2022-11-07 03:00:00                                          0.0   \n",
       "2022-11-07 04:00:00                                          0.0   \n",
       "2022-11-07 05:00:00                                          0.0   \n",
       "2022-11-07 06:00:00                                          0.0   \n",
       "\n",
       "                     Air Temperature 1 Hour Average(Avg)  \\\n",
       "Time                                                       \n",
       "2019-11-11 06:00:00                                 23.4   \n",
       "2019-11-11 07:00:00                                 24.3   \n",
       "2019-11-11 08:00:00                                 25.0   \n",
       "2019-11-11 09:00:00                                 25.4   \n",
       "2019-11-11 10:00:00                                 24.8   \n",
       "...                                                  ...   \n",
       "2022-11-07 02:00:00                                 15.3   \n",
       "2022-11-07 03:00:00                                 17.3   \n",
       "2022-11-07 04:00:00                                 19.4   \n",
       "2022-11-07 05:00:00                                 21.5   \n",
       "2022-11-07 06:00:00                                 23.3   \n",
       "\n",
       "                     Relative Humidity 1 hour average(Avg)  \n",
       "Time                                                        \n",
       "2019-11-11 06:00:00                                 69.399  \n",
       "2019-11-11 07:00:00                                 64.700  \n",
       "2019-11-11 08:00:00                                 59.300  \n",
       "2019-11-11 09:00:00                                 57.500  \n",
       "2019-11-11 10:00:00                                 60.400  \n",
       "...                                                    ...  \n",
       "2022-11-07 02:00:00                                100.000  \n",
       "2022-11-07 03:00:00                                100.000  \n",
       "2022-11-07 04:00:00                                 91.600  \n",
       "2022-11-07 05:00:00                                 74.300  \n",
       "2022-11-07 06:00:00                                 61.600  \n",
       "\n",
       "[25133 rows x 3 columns]"
      ]
     },
     "execution_count": 11,
     "metadata": {},
     "output_type": "execute_result"
    }
   ],
   "source": [
    "df"
   ]
  }
 ],
 "metadata": {
  "kernelspec": {
   "display_name": "Python 3.9.12 ('base')",
   "language": "python",
   "name": "python3"
  },
  "language_info": {
   "codemirror_mode": {
    "name": "ipython",
    "version": 3
   },
   "file_extension": ".py",
   "mimetype": "text/x-python",
   "name": "python",
   "nbconvert_exporter": "python",
   "pygments_lexer": "ipython3",
   "version": "3.9.12"
  },
  "orig_nbformat": 4,
  "vscode": {
   "interpreter": {
    "hash": "c625bab7c287ecdc7cf57830fd8ee2e4e101d09a77a38cba16bfa62a8e90dead"
   }
  }
 },
 "nbformat": 4,
 "nbformat_minor": 2
}
